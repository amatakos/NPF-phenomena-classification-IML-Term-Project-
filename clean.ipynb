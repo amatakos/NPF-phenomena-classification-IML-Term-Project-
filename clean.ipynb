{
 "cells": [
  {
   "cell_type": "markdown",
   "id": "e1889dd9",
   "metadata": {},
   "source": [
    "## Functions / Imports"
   ]
  },
  {
   "cell_type": "code",
   "execution_count": 33,
   "id": "de39dd92",
   "metadata": {},
   "outputs": [],
   "source": [
    "import numpy as np\n",
    "import pandas as pd\n",
    "import matplotlib.pyplot as plt \n",
    "from sklearn.model_selection import train_test_split, cross_val_score\n",
    "from sklearn.svm import SVC\n",
    "from sklearn.linear_model import LogisticRegression\n",
    "from sklearn.decomposition import PCA\n",
    "pd.options.mode.chained_assignment = None  # default='warn'\n",
    "\n",
    "\n",
    "def str_to_int(x):\n",
    "    '''Transform class4 to numeric labels.'''\n",
    "    if x==\"nonevent\":\n",
    "        return 0 \n",
    "    elif x==\"Ia\":\n",
    "        return 1\n",
    "    elif x==\"Ib\":\n",
    "        return 2\n",
    "    else:\n",
    "        return 3\n",
    "\n",
    "\n",
    "def int_to_str(x):\n",
    "    '''Transform class 4 back to events.'''\n",
    "    if x==0:\n",
    "        return \"nonevent\"\n",
    "    elif x==1:\n",
    "        return \"Ia\"\n",
    "    elif x==2:\n",
    "        return \"Ib\"\n",
    "    else:\n",
    "        return \"II\"\n",
    "    \n",
    "\n",
    "def read_data(path=\"../data/npf_train.csv\"):\n",
    "    '''Read train/test data. Returns filtered out normalized data.'''\n",
    "    data = pd.read_csv(path)                                                        # read the data\n",
    "    class4 = list(map(lambda x: int(str_to_int(x)), data[\"class4\"]))                # encode events into integers\n",
    "    data = data.drop(columns=[\"id\", \"partlybad\", \"date\", \"class4\"])                 # drop unnecessary columns\n",
    "    data = data.iloc[:,[0,10,22,24,36,48,58,60,62,64,66,78,80,82,84,94,96,98]]      # choose important variables\n",
    "    data = (data-data.mean()) / data.std()                                          # normalize the data\n",
    "    data[\"class4\"] = class4\n",
    "    \n",
    "    return data\n",
    "\n",
    "\n",
    "def report_accuracies(y_pred, y_test, verbose=True):\n",
    "    '''Calculate each class accuracy. Return multi class and binary accuracies.'''\n",
    "    acc_0 = 0; acc_1 = 0; acc_2 = 0; acc_3 = 0 \n",
    "    for i in range(len(y_pred)):\n",
    "        if y_test[i] == 0 and y_pred[i] == 0:\n",
    "            acc_0 += 1\n",
    "        elif y_test[i] == 1 and y_pred[i] == 1:\n",
    "            acc_1 += 1\n",
    "        elif y_test[i] == 2 and y_pred[i] == 2:\n",
    "            acc_2 += 1\n",
    "        elif y_test[i] == 3 and y_pred[i] == 3:\n",
    "            acc_3 += 1\n",
    "            \n",
    "    acc0 = acc_0 / (np.mean(y_test == 0)*len(y_test))\n",
    "    acc1 = acc_1 / (np.mean(y_test == 1)*len(y_test))\n",
    "    acc2 = acc_2 / (np.mean(y_test == 2)*len(y_test))\n",
    "    acc3 = acc_3 / (np.mean(y_test == 3)*len(y_test))\n",
    "    acc = np.mean(y_test==y_pred)\n",
    "    \n",
    "    if verbose:\n",
    "        print(f\"Accuracy for nonevent = {acc0:.4f} \\t({acc_0}/{int((np.mean(y_test == 0)*len(y_test)))})\")\n",
    "        print(f\"Accuracy for event Ia = {acc1:.4f} \\t({acc_1}/{int((np.mean(y_test == 1)*len(y_test)))})\")\n",
    "        print(f\"Accuracy for event Ib = {acc2:.4f} \\t({acc_2}/{int((np.mean(y_test == 2)*len(y_test)))})\")\n",
    "        print(f\"Accuracy for event II = {acc3:.4f} \\t({acc_3}/{int((np.mean(y_test == 3)*len(y_test)))})\")\n",
    "        print(f\"Accuracy overall = {acc:.4f}\")\n",
    "\n",
    "    # calculate binary accuracy\n",
    "    for i, y in enumerate(y_pred):\n",
    "        if y != 0:\n",
    "            y_pred[i] = 1\n",
    "        if y_test[i] != 0:\n",
    "            y_test[i] = 1\n",
    "            \n",
    "    bin_acc = np.mean(y_pred == y_test)\n",
    "    \n",
    "    return acc, bin_acc\n",
    "\n",
    "\n",
    "def split_train_test(data, a=0.5):\n",
    "    '''Split each class evenly.'''\n",
    "    data = data.sample(frac=1)\n",
    "    X_nonevent, y_nonevent = data.loc[data[\"class4\"] == 0].drop(columns=[\"class4\"]).values, data[\"class4\"].loc[data[\"class4\"] == 0].values\n",
    "    X_Ia, y_Ia = data.loc[data[\"class4\"] == 1].drop(columns=[\"class4\"]).values, data[\"class4\"].loc[data[\"class4\"] == 1].values\n",
    "    X_Ib, y_Ib = data.loc[data[\"class4\"] == 2].drop(columns=[\"class4\"]).values, data[\"class4\"].loc[data[\"class4\"] == 2].values\n",
    "    X_II, y_II = data.loc[data[\"class4\"] == 3].drop(columns=[\"class4\"]).values, data[\"class4\"].loc[data[\"class4\"] == 3].values\n",
    "\n",
    "    # Split each class into equal size train and test\n",
    "    X_nonevent_train, X_nonevent_test, y_nonevent_train, y_nonevent_test = train_test_split(X_nonevent, y_nonevent, test_size=a)\n",
    "    X_Ia_train, X_Ia_test, y_Ia_train, y_Ia_test = train_test_split(X_Ia, y_Ia, test_size=a)\n",
    "    X_Ib_train, X_Ib_test, y_Ib_train, y_Ib_test = train_test_split(X_Ib, y_Ib, test_size=a)\n",
    "    X_II_train, X_II_test, y_II_train, y_II_test = train_test_split(X_II, y_II, test_size=a)\n",
    "\n",
    "    # Recreate the mixed class train and test data (full data)\n",
    "    X_train = np.vstack([X_nonevent_train, X_Ia_train, X_Ib_train, X_II_train])\n",
    "    X_test = np.vstack([X_nonevent_test, X_Ia_test, X_Ib_test, X_II_test])\n",
    "    y_train = np.hstack([y_nonevent_train, y_Ia_train, y_Ib_train, y_II_train])\n",
    "    y_test = np.hstack([y_nonevent_test, y_Ia_test, y_Ib_test, y_II_test])\n",
    "    \n",
    "    return X_train, X_test, y_train, y_test"
   ]
  },
  {
   "cell_type": "markdown",
   "id": "c04f525a",
   "metadata": {},
   "source": [
    "## Read data"
   ]
  },
  {
   "cell_type": "code",
   "execution_count": 24,
   "id": "eab7acfd",
   "metadata": {},
   "outputs": [
    {
     "data": {
      "text/plain": [
       "(458, 19)"
      ]
     },
     "execution_count": 24,
     "metadata": {},
     "output_type": "execute_result"
    }
   ],
   "source": [
    "data = read_data()\n",
    "data.shape"
   ]
  },
  {
   "cell_type": "code",
   "execution_count": 31,
   "id": "c6208714",
   "metadata": {},
   "outputs": [
    {
     "data": {
      "image/png": "[encoded data removed]",
      "text/plain": [
       "<Figure size 432x288 with 2 Axes>"
      ]
     },
     "metadata": {
      "needs_background": "light"
     },
     "output_type": "display_data"
    }
   ],
   "source": [
    "import seaborn as sns\n",
    "X = read_data().drop(columns=\"class4\")\n",
    "for c in X.columns:\n",
    "    if \".mean\" in c:\n",
    "        X = X.rename(columns={str(c):str(c)[:-5]})\n",
    "X = X.rename(columns={\"CO2168\":\"CO2\", \"H2O168\":\"H2O\", \"NO168\":\"NO\", \"NOx168\":\"NOx\", \"O3168\":\"O3\", \"RHIRGA168\":\"RHIRGA\", \n",
    "                      \"SO2168\":\"SO2\", \"T168\":\"T\"})\n",
    "\n",
    "correlation = X.loc[:,['std' not in i for i in X.columns]].corr()\n",
    "heatmap = sns.heatmap(correlation, cmap = sns.diverging_palette(235, 21, as_cmap=True))\n",
    "fig = heatmap.get_figure()\n",
    "\n",
    "plt.show()"
   ]
  },
  {
   "cell_type": "code",
   "execution_count": 32,
   "id": "75a5abf2",
   "metadata": {},
   "outputs": [],
   "source": [
    "fig.savefig('final_heatmap.png', dpi=600, bbox_inches='tight')"
   ]
  },
  {
   "cell_type": "markdown",
   "id": "b19456fc",
   "metadata": {},
   "source": [
    "## Prepare X, y and fit SVM"
   ]
  },
  {
   "cell_type": "code",
   "execution_count": 13,
   "id": "f962c0e7",
   "metadata": {},
   "outputs": [
    {
     "name": "stdout",
     "output_type": "stream",
     "text": [
      "Mean accuracy (5-fold CV): 0.6661\n"
     ]
    }
   ],
   "source": [
    "X, y = data.drop(columns=\"class4\").values, data.class4.values\n",
    "\n",
    "svm = SVC(kernel='rbf', C=3.75, tol=1e-8)\n",
    "scores = cross_val_score(svm, X, y, cv=5)\n",
    "print(f\"Mean accuracy (5-fold CV): {np.mean(scores):.4f}\")"
   ]
  },
  {
   "cell_type": "markdown",
   "id": "4b3d82cb",
   "metadata": {},
   "source": [
    "## Performance on hidden test"
   ]
  },
  {
   "cell_type": "code",
   "execution_count": 37,
   "id": "7fdafedf",
   "metadata": {},
   "outputs": [
    {
     "data": {
      "text/plain": [
       "(458, 15)"
      ]
     },
     "execution_count": 37,
     "metadata": {},
     "output_type": "execute_result"
    }
   ],
   "source": [
    "X_train.shape"
   ]
  },
  {
   "cell_type": "code",
   "execution_count": 40,
   "id": "b25fe40d",
   "metadata": {},
   "outputs": [
    {
     "data": {
      "text/plain": [
       "(458, 15)"
      ]
     },
     "execution_count": 40,
     "metadata": {},
     "output_type": "execute_result"
    }
   ],
   "source": [
    "train_data = read_data()\n",
    "\n",
    "X_train = data.drop(columns=\"class4\").values\n",
    "X_train.shape"
   ]
  },
  {
   "cell_type": "code",
   "execution_count": 43,
   "id": "c68b6627",
   "metadata": {},
   "outputs": [
    {
     "name": "stdout",
     "output_type": "stream",
     "text": [
      "Accuracy for nonevent = 0.9136 \t(465/509)\n",
      "Accuracy for event Ia = 0.5625 \t(27/48)\n",
      "Accuracy for event Ib = 0.6071 \t(102/168)\n",
      "Accuracy for event II = 0.6083 \t(146/240)\n",
      "Accuracy overall = 0.7668\n"
     ]
    },
    {
     "data": {
      "text/plain": [
       "(0.7668393782383419, 0.910880829015544)"
      ]
     },
     "execution_count": 43,
     "metadata": {},
     "output_type": "execute_result"
    }
   ],
   "source": [
    "train_data = read_data()\n",
    "test_data = read_data(path=\"npf_test.csv\")\n",
    "\n",
    "X_train, y_train = train_data.drop(columns=\"class4\").values, data.class4.values\n",
    "X_test, y_test = test_data.drop(columns=\"class4\").values, test_data.class4.values\n",
    "\n",
    "clf = SVC(kernel='rbf', C=500, tol=1e-8)\n",
    "clf.fit(X_train, y_train)\n",
    "y_pred = clf.predict(X_test)\n",
    "report_accuracies(y_pred, y_test)"
   ]
  },
  {
   "cell_type": "code",
   "execution_count": 15,
   "id": "22583f6c",
   "metadata": {},
   "outputs": [
    {
     "data": {
      "text/plain": [
       "(0.8571861471861472, 0.01902985200494403)"
      ]
     },
     "execution_count": 15,
     "metadata": {},
     "output_type": "execute_result"
    }
   ],
   "source": [
    "accs = []\n",
    "for i in range(1000):\n",
    "    data = read_data()\n",
    "    data = read_data(path=\"npf_train.csv\")\n",
    "\n",
    "    X_train, X_test, y_train, y_test = split_train_test(data, a=0.5)\n",
    "\n",
    "    y_train = np.array(list(map(lambda x: 1 if int(x)!=0 else int(x), y_train)), dtype=np.int32)\n",
    "    y_test = np.array(list(map(lambda x: 1 if int(x)!=0 else int(x), y_test)), dtype=np.int32)\n",
    "\n",
    "    clf = SVC(kernel=\"rbf\", C=3.75, tol=1e-8)\n",
    "    #clf = LogisticRegression(penalty='l1', solver='liblinear', max_iter=1000000)\n",
    "    #clf = LogisticRegression(solver='lbfgs')\n",
    "    clf.fit(X_train, y_train)\n",
    "    y_pred = clf.predict(X_test)\n",
    "    accs.append(np.mean(y_pred==y_test))\n",
    "    \n",
    "np.mean(accs), np.std(accs)"
   ]
  },
  {
   "cell_type": "code",
   "execution_count": 6,
   "id": "59024d98",
   "metadata": {},
   "outputs": [
    {
     "data": {
      "image/png": "[encoded data removed]",
      "text/plain": [
       "<Figure size 1008x504 with 1 Axes>"
      ]
     },
     "metadata": {
      "needs_background": "light"
     },
     "output_type": "display_data"
    }
   ],
   "source": [
    "plt.figure(figsize=(14,7))\n",
    "plt.hist(accs, bins=30, density=True)\n",
    "plt.show()"
   ]
  },
  {
   "cell_type": "markdown",
   "id": "13e5f449",
   "metadata": {},
   "source": [
    "## Fit 1000 SVMs "
   ]
  },
  {
   "cell_type": "code",
   "execution_count": 35,
   "id": "fe3f128d",
   "metadata": {},
   "outputs": [
    {
     "name": "stdout",
     "output_type": "stream",
     "text": [
      "Training 10000 SVMs...\n",
      "Average accuracy = 0.6559\n",
      "Maximum accuracy = 0.7403\n",
      "Average accuracy for binary task = 0.8448\n",
      "Maximum accuracy for binary task = 0.9091\n"
     ]
    }
   ],
   "source": [
    "def cv(estimator, data, k=100, a=0.5):\n",
    "    '''k: number of SVMs trained\n",
    "       a: test_size when splitting into train/test.'''\n",
    "    scores = []\n",
    "    bin_scores = []\n",
    "    \n",
    "    for _ in range(k):\n",
    "        X_train, X_test, y_train, y_test = split_train_test(data, a=a)\n",
    "        \n",
    "        estimator.fit(X_train, y_train)\n",
    "        y_pred = estimator.predict(X_test)\n",
    "        \n",
    "        acc, acc0 = report_accuracies(y_pred, y_test, verbose=0)\n",
    "        scores.append(acc)\n",
    "        bin_scores.append(acc0)\n",
    "    \n",
    "    return scores, bin_scores\n",
    "\n",
    "data = read_data()\n",
    "data = data.drop(columns=[\"PAR.mean\", \"UV_B.mean\", \"NET.mean\"])\n",
    "clf = SVC(C=3.75, kernel=\"rbf\", tol=1e-5)\n",
    "\n",
    "k=10000\n",
    "scores, bin_scores = cv(clf, data, k)\n",
    "print(f\"Training {k} SVMs...\")\n",
    "print(f\"Average accuracy = {np.mean(scores):.4f}\")\n",
    "print(f\"Maximum accuracy = {np.max(scores):.4f}\")\n",
    "print(f\"Average accuracy for binary task = {np.mean(bin_scores):.4f}\")\n",
    "print(f\"Maximum accuracy for binary task = {np.max(bin_scores):.4f}\")"
   ]
  },
  {
   "cell_type": "code",
   "execution_count": 19,
   "id": "4628da05",
   "metadata": {},
   "outputs": [
    {
     "data": {
      "image/png": "[encoded data removed]",
      "text/plain": [
       "<Figure size 432x288 with 2 Axes>"
      ]
     },
     "metadata": {
      "needs_background": "light"
     },
     "output_type": "display_data"
    }
   ],
   "source": [
    "import seaborn as sns\n",
    "fig, (ax1, ax2) = plt.subplots(ncols=2, sharey= True)\n",
    "sns.kdeplot(x = scores, ax = ax1).set(title = \"Multi-class accuracy\")\n",
    "sns.kdeplot(x = bin_scores, ax = ax2).set(title = \"Binary accuracy\")\n",
    "plt.show()"
   ]
  },
  {
   "cell_type": "code",
   "execution_count": 20,
   "id": "1fcd2ddb",
   "metadata": {},
   "outputs": [],
   "source": [
    "\n",
    "fig.savefig('average_accuracies.png', dpi=600, bbox_inches='tight')"
   ]
  },
  {
   "cell_type": "code",
   "execution_count": 8,
   "id": "62026a42",
   "metadata": {},
   "outputs": [
    {
     "data": {
      "image/png": "[encoded data removed]",
      "text/plain": [
       "<Figure size 1440x720 with 3 Axes>"
      ]
     },
     "metadata": {
      "needs_background": "light"
     },
     "output_type": "display_data"
    }
   ],
   "source": [
    "_, bin_scores_1 = cv(clf, data, k=10000)\n",
    "_, bin_scores_2 = cv(clf, data, k=10000, a=0.2)\n",
    "\n",
    "fig, ax = plt.subplots(figsize=(20, 10))\n",
    "plt.tight_layout()\n",
    "ax1 = fig.add_subplot(121)\n",
    "ax2 = fig.add_subplot(122)\n",
    "\n",
    "ax1.hist(bin_scores_1, bins=15, density=True)\n",
    "ax2.hist(bin_scores_2, bins=15, density=True)\n",
    "\n",
    "ax1.set_title(\"Accuracy from 1000 SVMs - binary classification task (50/50 splits)\")\n",
    "ax1.set_xlabel(\"Percentage\")\n",
    "ax2.set_title(\"Accuracy from 1000 SVMs - binary classification task (80/20 splits)\")\n",
    "ax2.set_xlabel(\"Percentage\")\n",
    "\n",
    "#fig.savefig('image.png', format='png', dpi=1200)\n",
    "\n",
    "plt.show()"
   ]
  },
  {
   "cell_type": "code",
   "execution_count": 9,
   "id": "1145cbad",
   "metadata": {},
   "outputs": [],
   "source": [
    "fig.savefig('image600.png', format='png', dpi=600)"
   ]
  },
  {
   "cell_type": "markdown",
   "id": "a89979e2",
   "metadata": {},
   "source": [
    "## Calculate probabilities and labels for answers.csv"
   ]
  },
  {
   "cell_type": "code",
   "execution_count": 10,
   "id": "5f4b8b38",
   "metadata": {},
   "outputs": [
    {
     "ename": "NameError",
     "evalue": "name 'predicted_probabilities' is not defined",
     "output_type": "error",
     "traceback": [
      "\u001b[1;31m---------------------------------------------------------------------------\u001b[0m",
      "\u001b[1;31mNameError\u001b[0m                                 Traceback (most recent call last)",
      "\u001b[1;32m<ipython-input-10-b45b69362842>\u001b[0m in \u001b[0;36m<module>\u001b[1;34m\u001b[0m\n\u001b[1;32m----> 1\u001b[1;33m \u001b[0mpredicted_probabilities\u001b[0m\u001b[1;33m[\u001b[0m\u001b[1;33m:\u001b[0m\u001b[1;36m20\u001b[0m\u001b[1;33m]\u001b[0m\u001b[1;33m\u001b[0m\u001b[1;33m\u001b[0m\u001b[0m\n\u001b[0m",
      "\u001b[1;31mNameError\u001b[0m: name 'predicted_probabilities' is not defined"
     ]
    }
   ],
   "source": [
    "predicted_probabilities[:20]"
   ]
  },
  {
   "cell_type": "code",
   "execution_count": null,
   "id": "b8d6e481",
   "metadata": {
    "scrolled": true
   },
   "outputs": [],
   "source": [
    "train_data = read_data()\n",
    "test_data = read_data(path=\"npf_test.csv\")\n",
    "\n",
    "X_train, y_train = data.drop(columns=\"class4\").values, data.class4.values\n",
    "X_test, y_test = test_data.drop(columns=\"class4\").values, test_data.class4.values\n",
    "\n",
    "clf = SVC(C=3.75, kernel=\"rbf\", tol=1e-5, probability=True)\n",
    "clf.fit(X_train, y_train)\n",
    "predicted_probabilities = clf.predict_proba(X_test)\n",
    "\n",
    "labels = []\n",
    "p = []\n",
    "for row in predicted_probabilities:\n",
    "    prob = np.max(row)\n",
    "    label = int(np.argmax(row))\n",
    "    label = int_to_str(label)\n",
    "    if label==\"nonevent\":\n",
    "        prob = 1-prob\n",
    "    prob=round(prob,2)\n",
    "    labels.append(label)\n",
    "    p.append(prob)\n",
    "\n",
    "answers = pd.DataFrame(labels, columns=[\"class4\"])\n",
    "answers[\"p\"] = p"
   ]
  },
  {
   "cell_type": "markdown",
   "id": "209aae68",
   "metadata": {},
   "source": [
    "## Write to answers.csv"
   ]
  },
  {
   "cell_type": "code",
   "execution_count": null,
   "id": "9df6161b",
   "metadata": {},
   "outputs": [],
   "source": [
    "# Write answers\n",
    "with open(\"answers.csv\", \"w\") as f:\n",
    "    f.write(\"0.87\\n\")\n",
    "    answers.to_csv(f, index=False, line_terminator='\\n')"
   ]
  },
  {
   "cell_type": "markdown",
   "id": "c821f5ee",
   "metadata": {},
   "source": [
    "## Sanity checks"
   ]
  },
  {
   "cell_type": "code",
   "execution_count": null,
   "id": "b20d1dbb",
   "metadata": {},
   "outputs": [],
   "source": [
    "answers[\"class2\"].loc[(answers.p > 0.5) & (answers.class4 == \"nonevent\")] = \"event\""
   ]
  },
  {
   "cell_type": "code",
   "execution_count": null,
   "id": "cdb335e7",
   "metadata": {},
   "outputs": [],
   "source": [
    "np.mean(answers.class2 == test_data.class2)"
   ]
  },
  {
   "cell_type": "code",
   "execution_count": null,
   "id": "876903df",
   "metadata": {
    "scrolled": true
   },
   "outputs": [],
   "source": [
    "answers = pd.read_csv(\"answers.csv\", header=1)\n",
    "answers[\"class2\"] = \"event\"\n",
    "answers[\"class2\"].loc[answers.class4 == \"nonevent\"] = \"nonevent\"\n",
    "answers.head()"
   ]
  },
  {
   "cell_type": "code",
   "execution_count": null,
   "id": "d9c81464",
   "metadata": {},
   "outputs": [],
   "source": [
    "test_data = read_data(path=\"npf_test.csv\")\n",
    "test_data[\"class2\"] = \"event\"\n",
    "test_data[\"class4\"] = list(map(lambda x: int_to_str(x), test_data[\"class4\"]))\n",
    "test_data[\"class2\"].loc[test_data.class4 == \"nonevent\"] = \"nonevent\"\n",
    "test_data.loc[:,[\"class4\",\"class2\"]].head()"
   ]
  },
  {
   "cell_type": "markdown",
   "id": "2aa45dc4",
   "metadata": {},
   "source": [
    "## See where predicted and true labels don't match"
   ]
  },
  {
   "cell_type": "code",
   "execution_count": null,
   "id": "fd8f5624",
   "metadata": {},
   "outputs": [],
   "source": [
    "answers[\"class4_npf\"] = test_data.class4\n",
    "answers[\"class2_npf\"] = test_data.class2\n",
    "answers.loc[answers.class2 != test_data.class2].head(20)"
   ]
  }
 ],
 "metadata": {
  "kernelspec": {
   "display_name": "Python 3",
   "language": "python",
   "name": "python3"
  },
  "language_info": {
   "codemirror_mode": {
    "name": "ipython",
    "version": 3
   },
   "file_extension": ".py",
   "mimetype": "text/x-python",
   "name": "python",
   "nbconvert_exporter": "python",
   "pygments_lexer": "ipython3",
   "version": "3.8.8"
  }
 },
 "nbformat": 4,
 "nbformat_minor": 5
}
